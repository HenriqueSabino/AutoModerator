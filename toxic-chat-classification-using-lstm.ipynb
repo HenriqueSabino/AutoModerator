{
 "cells": [
  {
   "cell_type": "code",
   "execution_count": 1,
   "id": "2690d9a5",
   "metadata": {
    "_cell_guid": "b1076dfc-b9ad-4769-8c92-a6c4dae69d19",
    "_uuid": "8f2839f25d086af736a60e9eeb907d3b93b6e0e5",
    "execution": {
     "iopub.execute_input": "2022-03-21T15:36:27.959940Z",
     "iopub.status.busy": "2022-03-21T15:36:27.958451Z",
     "iopub.status.idle": "2022-03-21T15:36:27.980959Z",
     "shell.execute_reply": "2022-03-21T15:36:27.980437Z",
     "shell.execute_reply.started": "2022-03-21T15:34:00.386690Z"
    },
    "papermill": {
     "duration": 0.042766,
     "end_time": "2022-03-21T15:36:27.981099",
     "exception": false,
     "start_time": "2022-03-21T15:36:27.938333",
     "status": "completed"
    },
    "tags": []
   },
   "outputs": [],
   "source": [
    "# This Python 3 environment comes with many helpful analytics libraries installed\n",
    "# It is defined by the kaggle/python Docker image: https://github.com/kaggle/docker-python\n",
    "# For example, here's several helpful packages to load\n",
    "\n",
    "import numpy as np # linear algebra\n",
    "import pandas as pd # data processing, CSV file I/O (e.g. pd.read_csv)\n",
    "\n",
    "# Input data files are available in the read-only \"../input/\" directory\n",
    "# For example, running this (by clicking run or pressing Shift+Enter) will list all files under the input directory\n",
    "\n",
    "import os\n",
    "for dirname, _, filenames in os.walk('/kaggle/input'):\n",
    "    for filename in filenames:\n",
    "        print(os.path.join(dirname, filename))\n",
    "\n",
    "# You can write up to 20GB to the current directory (/kaggle/working/) that gets preserved as output when you create a version using \"Save & Run All\" \n",
    "# You can also write temporary files to /kaggle/temp/, but they won't be saved outside of the current session"
   ]
  },
  {
   "cell_type": "code",
   "execution_count": 2,
   "id": "1f339aa6",
   "metadata": {
    "execution": {
     "iopub.execute_input": "2022-03-21T15:36:28.013908Z",
     "iopub.status.busy": "2022-03-21T15:36:28.013378Z",
     "iopub.status.idle": "2022-03-21T15:36:32.458137Z",
     "shell.execute_reply": "2022-03-21T15:36:32.457483Z",
     "shell.execute_reply.started": "2022-03-21T15:34:01.632371Z"
    },
    "papermill": {
     "duration": 4.462246,
     "end_time": "2022-03-21T15:36:32.458322",
     "exception": false,
     "start_time": "2022-03-21T15:36:27.996076",
     "status": "completed"
    },
    "tags": []
   },
   "outputs": [
    {
     "name": "stderr",
     "output_type": "stream",
     "text": [
      "2024-02-18 08:28:56.477555: I tensorflow/core/util/port.cc:113] oneDNN custom operations are on. You may see slightly different numerical results due to floating-point round-off errors from different computation orders. To turn them off, set the environment variable `TF_ENABLE_ONEDNN_OPTS=0`.\n",
      "2024-02-18 08:28:56.709840: E external/local_xla/xla/stream_executor/cuda/cuda_dnn.cc:9261] Unable to register cuDNN factory: Attempting to register factory for plugin cuDNN when one has already been registered\n",
      "2024-02-18 08:28:56.709891: E external/local_xla/xla/stream_executor/cuda/cuda_fft.cc:607] Unable to register cuFFT factory: Attempting to register factory for plugin cuFFT when one has already been registered\n",
      "2024-02-18 08:28:56.750801: E external/local_xla/xla/stream_executor/cuda/cuda_blas.cc:1515] Unable to register cuBLAS factory: Attempting to register factory for plugin cuBLAS when one has already been registered\n",
      "2024-02-18 08:28:56.835655: I tensorflow/core/platform/cpu_feature_guard.cc:182] This TensorFlow binary is optimized to use available CPU instructions in performance-critical operations.\n",
      "To enable the following instructions: AVX2 AVX512F AVX512_VNNI FMA, in other operations, rebuild TensorFlow with the appropriate compiler flags.\n",
      "2024-02-18 08:28:57.732654: W tensorflow/compiler/tf2tensorrt/utils/py_utils.cc:38] TF-TRT Warning: Could not find TensorRT\n"
     ]
    }
   ],
   "source": [
    "import pandas as pd\n",
    "import tensorflow as tf\n",
    "import numpy as np\n",
    "from glob import glob"
   ]
  },
  {
   "cell_type": "code",
   "execution_count": 3,
   "id": "b05896ad",
   "metadata": {
    "execution": {
     "iopub.execute_input": "2022-03-21T15:36:32.496892Z",
     "iopub.status.busy": "2022-03-21T15:36:32.496131Z",
     "iopub.status.idle": "2022-03-21T15:36:37.987898Z",
     "shell.execute_reply": "2022-03-21T15:36:37.988520Z",
     "shell.execute_reply.started": "2022-03-21T15:34:06.734957Z"
    },
    "papermill": {
     "duration": 5.513858,
     "end_time": "2022-03-21T15:36:37.988754",
     "exception": false,
     "start_time": "2022-03-21T15:36:32.474896",
     "status": "completed"
    },
    "tags": []
   },
   "outputs": [],
   "source": [
    "df_nonflag = []\n",
    "df_flag =[]\n",
    "df_nonflag = pd.concat(\n",
    "    [pd.read_parquet(x) for x in glob('./dataset/chats_nonflag_*.parquet')],\n",
    "    ignore_index=True)\n",
    "df_flag = pd.concat(\n",
    "    [pd.read_parquet(x) for x in glob('./dataset/chats_flagged_*.parquet')],\n",
    "    ignore_index=True)\n",
    "\n",
    "df = pd.concat([df_nonflag, df_flag])"
   ]
  },
  {
   "cell_type": "code",
   "execution_count": 4,
   "id": "fef3775e",
   "metadata": {
    "execution": {
     "iopub.execute_input": "2022-03-21T15:36:38.044320Z",
     "iopub.status.busy": "2022-03-21T15:36:38.043590Z",
     "iopub.status.idle": "2022-03-21T15:36:39.505565Z",
     "shell.execute_reply": "2022-03-21T15:36:39.505952Z",
     "shell.execute_reply.started": "2022-03-21T15:34:13.972711Z"
    },
    "papermill": {
     "duration": 1.494201,
     "end_time": "2022-03-21T15:36:39.506102",
     "exception": false,
     "start_time": "2022-03-21T15:36:38.011901",
     "status": "completed"
    },
    "tags": []
   },
   "outputs": [
    {
     "data": {
      "text/plain": [
       "<Axes: ylabel='label'>"
      ]
     },
     "execution_count": 4,
     "metadata": {},
     "output_type": "execute_result"
    },
    {
     "data": {
      "image/png": "[encoded data removed]",
      "text/plain": [
       "<Figure size 640x480 with 1 Axes>"
      ]
     },
     "metadata": {},
     "output_type": "display_data"
    }
   ],
   "source": [
    "df['label'].value_counts().plot(kind='barh')"
   ]
  },
  {
   "cell_type": "markdown",
   "id": "d356de10",
   "metadata": {
    "papermill": {
     "duration": 0.014879,
     "end_time": "2022-03-21T15:36:39.536159",
     "exception": false,
     "start_time": "2022-03-21T15:36:39.521280",
     "status": "completed"
    },
    "tags": []
   },
   "source": [
    "## Remove Duplicate Data"
   ]
  },
  {
   "cell_type": "code",
   "execution_count": 5,
   "id": "42c9e518",
   "metadata": {
    "execution": {
     "iopub.execute_input": "2022-03-21T15:36:40.551921Z",
     "iopub.status.busy": "2022-03-21T15:36:39.775035Z",
     "iopub.status.idle": "2022-03-21T15:36:44.676822Z",
     "shell.execute_reply": "2022-03-21T15:36:44.676028Z",
     "shell.execute_reply.started": "2022-03-21T15:34:15.292831Z"
    },
    "papermill": {
     "duration": 5.125782,
     "end_time": "2022-03-21T15:36:44.676952",
     "exception": false,
     "start_time": "2022-03-21T15:36:39.551170",
     "status": "completed"
    },
    "tags": []
   },
   "outputs": [
    {
     "name": "stdout",
     "output_type": "stream",
     "text": [
      "Total data :  7700072\n",
      "Total data after duplicates removes :  3618758\n"
     ]
    }
   ],
   "source": [
    "## Remove duplicate\n",
    "print(\"Total data : \", len(df))\n",
    "print(\"Total data after duplicates removes : \", len(df.drop_duplicates()))"
   ]
  },
  {
   "cell_type": "code",
   "execution_count": 6,
   "id": "3ef7f798",
   "metadata": {
    "execution": {
     "iopub.execute_input": "2022-03-21T15:36:45.307147Z",
     "iopub.status.busy": "2022-03-21T15:36:45.306300Z",
     "iopub.status.idle": "2022-03-21T15:36:49.963578Z",
     "shell.execute_reply": "2022-03-21T15:36:49.964123Z",
     "shell.execute_reply.started": "2022-03-21T15:34:22.040260Z"
    },
    "papermill": {
     "duration": 5.271487,
     "end_time": "2022-03-21T15:36:49.964276",
     "exception": false,
     "start_time": "2022-03-21T15:36:44.692789",
     "status": "completed"
    },
    "tags": []
   },
   "outputs": [
    {
     "data": {
      "text/plain": [
       "<Axes: ylabel='label'>"
      ]
     },
     "execution_count": 6,
     "metadata": {},
     "output_type": "execute_result"
    },
    {
     "data": {
      "image/png": "[encoded data removed]",
      "text/plain": [
       "<Figure size 640x480 with 1 Axes>"
      ]
     },
     "metadata": {},
     "output_type": "display_data"
    }
   ],
   "source": [
    "df = df.drop_duplicates()\n",
    "df['label'].value_counts().plot(kind='barh')"
   ]
  },
  {
   "cell_type": "code",
   "execution_count": 7,
   "id": "a2bc4454",
   "metadata": {
    "execution": {
     "iopub.execute_input": "2022-03-21T15:36:50.320351Z",
     "iopub.status.busy": "2022-03-21T15:36:50.318903Z",
     "iopub.status.idle": "2022-03-21T15:36:53.335286Z",
     "shell.execute_reply": "2022-03-21T15:36:53.336473Z",
     "shell.execute_reply.started": "2022-03-21T15:34:29.159289Z"
    },
    "papermill": {
     "duration": 3.355141,
     "end_time": "2022-03-21T15:36:53.336688",
     "exception": false,
     "start_time": "2022-03-21T15:36:49.981547",
     "status": "completed"
    },
    "tags": []
   },
   "outputs": [
    {
     "data": {
      "text/html": [
       "<div>\n",
       "<style scoped>\n",
       "    .dataframe tbody tr th:only-of-type {\n",
       "        vertical-align: middle;\n",
       "    }\n",
       "\n",
       "    .dataframe tbody tr th {\n",
       "        vertical-align: top;\n",
       "    }\n",
       "\n",
       "    .dataframe thead th {\n",
       "        text-align: right;\n",
       "    }\n",
       "</style>\n",
       "<table border=\"1\" class=\"dataframe\">\n",
       "  <thead>\n",
       "    <tr style=\"text-align: right;\">\n",
       "      <th></th>\n",
       "      <th>body</th>\n",
       "      <th>label</th>\n",
       "    </tr>\n",
       "  </thead>\n",
       "  <tbody>\n",
       "    <tr>\n",
       "      <th>0</th>\n",
       "      <td>チカラがw</td>\n",
       "      <td>0</td>\n",
       "    </tr>\n",
       "    <tr>\n",
       "      <th>1</th>\n",
       "      <td>熱帯魚ウーパールーパー繁殖に必要なのに…</td>\n",
       "      <td>1</td>\n",
       "    </tr>\n",
       "    <tr>\n",
       "      <th>2</th>\n",
       "      <td>運もありそう</td>\n",
       "      <td>0</td>\n",
       "    </tr>\n",
       "    <tr>\n",
       "      <th>3</th>\n",
       "      <td>entonces Rose si es tu hija?</td>\n",
       "      <td>0</td>\n",
       "    </tr>\n",
       "    <tr>\n",
       "      <th>4</th>\n",
       "      <td>記念仙人</td>\n",
       "      <td>0</td>\n",
       "    </tr>\n",
       "  </tbody>\n",
       "</table>\n",
       "</div>"
      ],
      "text/plain": [
       "                           body  label\n",
       "0                         チカラがw      0\n",
       "1          熱帯魚ウーパールーパー繁殖に必要なのに…      1\n",
       "2                        運もありそう      0\n",
       "3  entonces Rose si es tu hija?      0\n",
       "4                          記念仙人      0"
      ]
     },
     "execution_count": 7,
     "metadata": {},
     "output_type": "execute_result"
    }
   ],
   "source": [
    "df_labeled = df\n",
    "df_labeled[\"label\"] = np.where(df[\"label\"].str.contains(\"nonflagged\"), 0, 1)\n",
    "df_labeled = df_labeled.sample(frac=1).reset_index(drop=True)\n",
    "df_labeled.head(5)\n",
    "#Flag = 1\n",
    "#Nonflag = 0"
   ]
  },
  {
   "cell_type": "markdown",
   "id": "0b891f5d",
   "metadata": {
    "papermill": {
     "duration": 0.029543,
     "end_time": "2022-03-21T15:36:53.396772",
     "exception": false,
     "start_time": "2022-03-21T15:36:53.367229",
     "status": "completed"
    },
    "tags": []
   },
   "source": [
    "## Hyperparameter"
   ]
  },
  {
   "cell_type": "code",
   "execution_count": 8,
   "id": "36a818f4",
   "metadata": {
    "execution": {
     "iopub.execute_input": "2022-03-21T15:36:53.458560Z",
     "iopub.status.busy": "2022-03-21T15:36:53.457888Z",
     "iopub.status.idle": "2022-03-21T15:36:54.567825Z",
     "shell.execute_reply": "2022-03-21T15:36:54.568322Z",
     "shell.execute_reply.started": "2022-03-21T15:34:33.554426Z"
    },
    "papermill": {
     "duration": 1.143586,
     "end_time": "2022-03-21T15:36:54.568467",
     "exception": false,
     "start_time": "2022-03-21T15:36:53.424881",
     "status": "completed"
    },
    "tags": []
   },
   "outputs": [
    {
     "name": "stderr",
     "output_type": "stream",
     "text": [
      "[nltk_data] Downloading package stopwords to\n",
      "[nltk_data]     /home/henriquesabino/nltk_data...\n",
      "[nltk_data]   Package stopwords is already up-to-date!\n"
     ]
    }
   ],
   "source": [
    "#Hyperparam\n",
    "vocab_size = 200000\n",
    "embedding_dim = 16\n",
    "max_length = 15\n",
    "trunc_type='post'\n",
    "padding_type='post'\n",
    "oov_tok = \"<OOV>\"\n",
    "\n",
    "#Removing stopwords\n",
    "import nltk.corpus\n",
    "nltk.download('stopwords')\n",
    "from nltk.corpus import stopwords\n",
    "stop = stopwords.words('english')"
   ]
  },
  {
   "cell_type": "code",
   "execution_count": 9,
   "id": "9980f587",
   "metadata": {
    "execution": {
     "iopub.execute_input": "2022-03-21T15:36:54.659781Z",
     "iopub.status.busy": "2022-03-21T15:36:54.644566Z",
     "iopub.status.idle": "2022-03-21T15:37:15.665326Z",
     "shell.execute_reply": "2022-03-21T15:37:15.664741Z",
     "shell.execute_reply.started": "2022-03-21T15:34:33.566496Z"
    },
    "papermill": {
     "duration": 21.079336,
     "end_time": "2022-03-21T15:37:15.665465",
     "exception": false,
     "start_time": "2022-03-21T15:36:54.586129",
     "status": "completed"
    },
    "tags": []
   },
   "outputs": [],
   "source": [
    "import re\n",
    "\n",
    "Words = []\n",
    "Labels = []\n",
    "for item in df_labeled.body :\n",
    "  #item = re.sub(r\"(@\\[A-Za-z0-9]+)|([^0-9A-Za-z \\t])|(\\w+:\\/\\/\\S+)|^rt|http.+?\", \"\", item)\n",
    "  item = \" \".join([word for word in item.split() if word not in (stop)])\n",
    "  Words.append(item)\n",
    "\n",
    "for item in df_labeled.label :\n",
    "  Labels.append(item)"
   ]
  },
  {
   "cell_type": "code",
   "execution_count": 10,
   "id": "a15b82ca",
   "metadata": {
    "execution": {
     "iopub.execute_input": "2022-03-21T15:37:15.713770Z",
     "iopub.status.busy": "2022-03-21T15:37:15.713104Z",
     "iopub.status.idle": "2022-03-21T15:37:34.727793Z",
     "shell.execute_reply": "2022-03-21T15:37:34.727295Z",
     "shell.execute_reply.started": "2022-03-21T15:34:58.333333Z"
    },
    "papermill": {
     "duration": 19.039798,
     "end_time": "2022-03-21T15:37:34.727935",
     "exception": false,
     "start_time": "2022-03-21T15:37:15.688137",
     "status": "completed"
    },
    "tags": []
   },
   "outputs": [],
   "source": [
    "from imblearn.under_sampling import RandomUnderSampler\n",
    "rus = RandomUnderSampler()\n",
    "Words = np.array(Words)\n",
    "Words_reshape = Words.reshape(-1, 1)\n",
    "X_rus, y_rus= rus.fit_resample(Words_reshape, Labels)\n",
    "\n",
    "from sklearn.model_selection import train_test_split\n",
    "training_sentences, testing_sentences, training_labels, testing_labels = train_test_split(X_rus, y_rus, test_size=0.15, random_state=42)\n",
    "\n",
    "training_sentences = training_sentences.tolist()\n",
    "testing_sentences = testing_sentences.tolist()\n",
    "\n",
    "training_sentences = [val for sublist in training_sentences for val in sublist]\n",
    "testing_sentences = [val for sublist in testing_sentences for val in sublist]"
   ]
  },
  {
   "cell_type": "code",
   "execution_count": 11,
   "id": "d01ba4b8",
   "metadata": {
    "execution": {
     "iopub.execute_input": "2022-03-21T15:37:34.770588Z",
     "iopub.status.busy": "2022-03-21T15:37:34.769917Z",
     "iopub.status.idle": "2022-03-21T15:38:52.081318Z",
     "shell.execute_reply": "2022-03-21T15:38:52.080815Z"
    },
    "papermill": {
     "duration": 77.335437,
     "end_time": "2022-03-21T15:38:52.081464",
     "exception": false,
     "start_time": "2022-03-21T15:37:34.746027",
     "status": "completed"
    },
    "tags": []
   },
   "outputs": [],
   "source": [
    "from keras.preprocessing.text import Tokenizer\n",
    "from keras.preprocessing.sequence import pad_sequences\n",
    "\n",
    "tokenizer = Tokenizer(num_words=vocab_size, oov_token=oov_tok)\n",
    "tokenizer.fit_on_texts(training_sentences)\n",
    "\n",
    "word_index = tokenizer.word_index\n",
    "\n",
    "training_sequences = tokenizer.texts_to_sequences(training_sentences)\n",
    "training_padded = pad_sequences(training_sequences, maxlen=max_length, padding=padding_type, truncating=trunc_type)\n",
    "\n",
    "testing_sequences = tokenizer.texts_to_sequences(testing_sentences)\n",
    "testing_padded = pad_sequences(testing_sequences, maxlen=max_length, padding=padding_type, truncating=trunc_type)"
   ]
  },
  {
   "cell_type": "markdown",
   "id": "a2260572",
   "metadata": {
    "papermill": {
     "duration": 0.017718,
     "end_time": "2022-03-21T15:38:52.117831",
     "exception": false,
     "start_time": "2022-03-21T15:38:52.100113",
     "status": "completed"
    },
    "tags": []
   },
   "source": [
    "## Create Model"
   ]
  },
  {
   "cell_type": "code",
   "execution_count": 12,
   "id": "429577de",
   "metadata": {
    "execution": {
     "iopub.execute_input": "2022-03-21T15:38:52.162045Z",
     "iopub.status.busy": "2022-03-21T15:38:52.161327Z",
     "iopub.status.idle": "2022-03-21T15:38:55.196894Z",
     "shell.execute_reply": "2022-03-21T15:38:55.197682Z"
    },
    "papermill": {
     "duration": 3.062051,
     "end_time": "2022-03-21T15:38:55.197865",
     "exception": false,
     "start_time": "2022-03-21T15:38:52.135814",
     "status": "completed"
    },
    "tags": []
   },
   "outputs": [
    {
     "name": "stderr",
     "output_type": "stream",
     "text": [
      "2024-02-18 08:30:06.541663: I external/local_xla/xla/stream_executor/cuda/cuda_executor.cc:887] could not open file to read NUMA node: /sys/bus/pci/devices/0000:01:00.0/numa_node\n",
      "Your kernel may have been built without NUMA support.\n",
      "2024-02-18 08:30:06.668409: I external/local_xla/xla/stream_executor/cuda/cuda_executor.cc:887] could not open file to read NUMA node: /sys/bus/pci/devices/0000:01:00.0/numa_node\n",
      "Your kernel may have been built without NUMA support.\n",
      "2024-02-18 08:30:06.668457: I external/local_xla/xla/stream_executor/cuda/cuda_executor.cc:887] could not open file to read NUMA node: /sys/bus/pci/devices/0000:01:00.0/numa_node\n",
      "Your kernel may have been built without NUMA support.\n",
      "2024-02-18 08:30:06.669912: I external/local_xla/xla/stream_executor/cuda/cuda_executor.cc:887] could not open file to read NUMA node: /sys/bus/pci/devices/0000:01:00.0/numa_node\n",
      "Your kernel may have been built without NUMA support.\n",
      "2024-02-18 08:30:06.669959: I external/local_xla/xla/stream_executor/cuda/cuda_executor.cc:887] could not open file to read NUMA node: /sys/bus/pci/devices/0000:01:00.0/numa_node\n",
      "Your kernel may have been built without NUMA support.\n",
      "2024-02-18 08:30:06.669985: I external/local_xla/xla/stream_executor/cuda/cuda_executor.cc:887] could not open file to read NUMA node: /sys/bus/pci/devices/0000:01:00.0/numa_node\n",
      "Your kernel may have been built without NUMA support.\n",
      "2024-02-18 08:30:06.791141: I external/local_xla/xla/stream_executor/cuda/cuda_executor.cc:887] could not open file to read NUMA node: /sys/bus/pci/devices/0000:01:00.0/numa_node\n",
      "Your kernel may have been built without NUMA support.\n",
      "2024-02-18 08:30:06.791234: I external/local_xla/xla/stream_executor/cuda/cuda_executor.cc:887] could not open file to read NUMA node: /sys/bus/pci/devices/0000:01:00.0/numa_node\n",
      "Your kernel may have been built without NUMA support.\n",
      "2024-02-18 08:30:06.791240: I tensorflow/core/common_runtime/gpu/gpu_device.cc:2022] Could not identify NUMA node of platform GPU id 0, defaulting to 0.  Your kernel may not have been built with NUMA support.\n",
      "2024-02-18 08:30:06.791278: I external/local_xla/xla/stream_executor/cuda/cuda_executor.cc:887] could not open file to read NUMA node: /sys/bus/pci/devices/0000:01:00.0/numa_node\n",
      "Your kernel may have been built without NUMA support.\n",
      "2024-02-18 08:30:06.791295: I tensorflow/core/common_runtime/gpu/gpu_device.cc:1929] Created device /job:localhost/replica:0/task:0/device:GPU:0 with 9711 MB memory:  -> device: 0, name: NVIDIA GeForce RTX 3060, pci bus id: 0000:01:00.0, compute capability: 8.6\n",
      "2024-02-18 08:30:07.317203: I external/local_tsl/tsl/platform/default/subprocess.cc:304] Start cannot spawn child process: No such file or directory\n"
     ]
    },
    {
     "name": "stdout",
     "output_type": "stream",
     "text": [
      "Model: \"sequential\"\n",
      "_________________________________________________________________\n",
      " Layer (type)                Output Shape              Param #   \n",
      "=================================================================\n",
      " embedding (Embedding)       (None, 15, 16)            3200000   \n",
      "                                                                 \n",
      " bidirectional (Bidirection  (None, 512)               559104    \n",
      " al)                                                             \n",
      "                                                                 \n",
      " dense (Dense)               (None, 128)               65664     \n",
      "                                                                 \n",
      " dense_1 (Dense)             (None, 256)               33024     \n",
      "                                                                 \n",
      " dense_2 (Dense)             (None, 512)               131584    \n",
      "                                                                 \n",
      " dense_3 (Dense)             (None, 512)               262656    \n",
      "                                                                 \n",
      " dense_4 (Dense)             (None, 256)               131328    \n",
      "                                                                 \n",
      " dense_5 (Dense)             (None, 128)               32896     \n",
      "                                                                 \n",
      " dense_6 (Dense)             (None, 64)                8256      \n",
      "                                                                 \n",
      " dense_7 (Dense)             (None, 32)                2080      \n",
      "                                                                 \n",
      " dense_8 (Dense)             (None, 1)                 33        \n",
      "                                                                 \n",
      "=================================================================\n",
      "Total params: 4426625 (16.89 MB)\n",
      "Trainable params: 4426625 (16.89 MB)\n",
      "Non-trainable params: 0 (0.00 Byte)\n",
      "_________________________________________________________________\n"
     ]
    }
   ],
   "source": [
    "model = tf.keras.Sequential([\n",
    "    tf.keras.layers.Embedding(vocab_size, embedding_dim, input_length=max_length),\n",
    "    tf.keras.layers.Bidirectional(tf.keras.layers.LSTM(256)),\n",
    "    tf.keras.layers.Dense(128, activation='relu'),\n",
    "    tf.keras.layers.Dense(256, activation='relu'),\n",
    "    tf.keras.layers.Dense(512, activation='relu'),\n",
    "    tf.keras.layers.Dense(512, activation='relu'),\n",
    "    tf.keras.layers.Dense(256, activation='relu'),\n",
    "    tf.keras.layers.Dense(128, activation='relu'),\n",
    "    tf.keras.layers.Dense(64, activation='relu'),\n",
    "    tf.keras.layers.Dense(32, activation='relu'),\n",
    "    tf.keras.layers.Dense(1, activation='sigmoid')\n",
    "])\n",
    "model.compile(loss='binary_crossentropy',optimizer='adam',metrics=['accuracy'])\n",
    "model.summary()"
   ]
  },
  {
   "cell_type": "code",
   "execution_count": 13,
   "id": "a62b4807",
   "metadata": {
    "execution": {
     "iopub.execute_input": "2022-03-21T15:38:55.241672Z",
     "iopub.status.busy": "2022-03-21T15:38:55.240627Z",
     "iopub.status.idle": "2022-03-21T19:16:43.469590Z",
     "shell.execute_reply": "2022-03-21T19:16:43.468985Z"
    },
    "papermill": {
     "duration": 13068.253264,
     "end_time": "2022-03-21T19:16:43.470186",
     "exception": false,
     "start_time": "2022-03-21T15:38:55.216922",
     "status": "completed"
    },
    "tags": []
   },
   "outputs": [
    {
     "name": "stdout",
     "output_type": "stream",
     "text": [
      "13294/13294 [==============================] - 185s 14ms/step - loss: 0.4774 - accuracy: 0.7383 - val_loss: 0.9150 - val_accuracy: 0.6395\n",
      "Epoch 42/200\n",
      "13294/13294 [==============================] - 183s 14ms/step - loss: 0.4771 - accuracy: 0.7386 - val_loss: 0.9067 - val_accuracy: 0.6387\n",
      "Epoch 43/200\n",
      "13294/13294 [==============================] - 176s 13ms/step - loss: 0.4756 - accuracy: 0.7392 - val_loss: 0.8759 - val_accuracy: 0.6384\n",
      "Epoch 44/200\n",
      "13294/13294 [==============================] - 177s 13ms/step - loss: 0.4752 - accuracy: 0.7394 - val_loss: 0.9166 - val_accuracy: 0.6363\n",
      "Epoch 45/200\n",
      "13294/13294 [==============================] - 176s 13ms/step - loss: 0.4751 - accuracy: 0.7397 - val_loss: 0.8570 - val_accuracy: 0.6380\n",
      "Epoch 46/200\n",
      "13294/13294 [==============================] - 180s 14ms/step - loss: 0.4749 - accuracy: 0.7398 - val_loss: 0.8641 - val_accuracy: 0.6378\n",
      "Epoch 47/200\n",
      "13294/13294 [==============================] - 182s 14ms/step - loss: 0.4753 - accuracy: 0.7397 - val_loss: 0.8475 - val_accuracy: 0.6384\n",
      "Epoch 48/200\n",
      "13294/13294 [==============================] - 184s 14ms/step - loss: 0.4776 - accuracy: 0.7389 - val_loss: 0.8426 - val_accuracy: 0.6397\n",
      "Epoch 49/200\n",
      "13294/13294 [==============================] - 181s 14ms/step - loss: 0.4758 - accuracy: 0.7396 - val_loss: 0.8489 - val_accuracy: 0.6376\n",
      "Epoch 50/200\n",
      "13294/13294 [==============================] - 176s 13ms/step - loss: 0.4748 - accuracy: 0.7399 - val_loss: 0.8427 - val_accuracy: 0.6393\n",
      "Epoch 51/200\n",
      "13294/13294 [==============================] - 179s 13ms/step - loss: 0.4741 - accuracy: 0.7405 - val_loss: 0.8324 - val_accuracy: 0.6384\n",
      "Epoch 52/200\n",
      "13294/13294 [==============================] - 181s 14ms/step - loss: 0.4759 - accuracy: 0.7397 - val_loss: 0.8394 - val_accuracy: 0.6396\n",
      "Epoch 53/200\n",
      "13294/13294 [==============================] - 183s 14ms/step - loss: 0.4768 - accuracy: 0.7395 - val_loss: 0.8618 - val_accuracy: 0.6379\n",
      "Epoch 54/200\n",
      "13294/13294 [==============================] - 182s 14ms/step - loss: 0.4757 - accuracy: 0.7398 - val_loss: 0.8725 - val_accuracy: 0.6411\n",
      "Epoch 55/200\n",
      "13294/13294 [==============================] - 182s 14ms/step - loss: 0.4742 - accuracy: 0.7405 - val_loss: 0.8543 - val_accuracy: 0.6391\n",
      "Epoch 56/200\n",
      "13294/13294 [==============================] - 185s 14ms/step - loss: 0.4724 - accuracy: 0.7416 - val_loss: 0.9112 - val_accuracy: 0.6374\n",
      "Epoch 57/200\n",
      "13294/13294 [==============================] - 187s 14ms/step - loss: 0.4706 - accuracy: 0.7424 - val_loss: 0.9721 - val_accuracy: 0.6364\n",
      "Epoch 58/200\n",
      "13294/13294 [==============================] - 190s 14ms/step - loss: 0.4698 - accuracy: 0.7426 - val_loss: 0.8507 - val_accuracy: 0.6362\n",
      "Epoch 59/200\n",
      "13294/13294 [==============================] - 186s 14ms/step - loss: 0.4707 - accuracy: 0.7423 - val_loss: 0.9301 - val_accuracy: 0.6388\n",
      "Epoch 60/200\n",
      "13294/13294 [==============================] - 188s 14ms/step - loss: 0.4729 - accuracy: 0.7415 - val_loss: 0.8912 - val_accuracy: 0.6396\n",
      "Epoch 61/200\n",
      "13294/13294 [==============================] - 185s 14ms/step - loss: 0.4708 - accuracy: 0.7424 - val_loss: 0.9039 - val_accuracy: 0.6383\n",
      "Epoch 62/200\n",
      "13294/13294 [==============================] - 187s 14ms/step - loss: 0.4693 - accuracy: 0.7433 - val_loss: 0.9579 - val_accuracy: 0.6378\n",
      "Epoch 63/200\n",
      "13294/13294 [==============================] - 185s 14ms/step - loss: 0.4680 - accuracy: 0.7442 - val_loss: 0.9751 - val_accuracy: 0.6387\n",
      "Epoch 64/200\n",
      "13294/13294 [==============================] - 184s 14ms/step - loss: 0.4678 - accuracy: 0.7443 - val_loss: 0.9163 - val_accuracy: 0.6371\n",
      "Epoch 65/200\n",
      "13294/13294 [==============================] - 187s 14ms/step - loss: 0.4673 - accuracy: 0.7442 - val_loss: 0.8663 - val_accuracy: 0.6364\n",
      "Epoch 66/200\n",
      "13294/13294 [==============================] - 185s 14ms/step - loss: 0.4749 - accuracy: 0.7410 - val_loss: 0.8915 - val_accuracy: 0.6368\n",
      "Epoch 67/200\n",
      "13294/13294 [==============================] - 186s 14ms/step - loss: 0.4800 - accuracy: 0.7387 - val_loss: 0.7885 - val_accuracy: 0.6403\n",
      "Epoch 68/200\n",
      "13294/13294 [==============================] - 189s 14ms/step - loss: 0.4775 - accuracy: 0.7394 - val_loss: 0.8651 - val_accuracy: 0.6382\n",
      "Epoch 69/200\n",
      "13294/13294 [==============================] - 186s 14ms/step - loss: 0.4748 - accuracy: 0.7408 - val_loss: 0.8528 - val_accuracy: 0.6364\n",
      "Epoch 70/200\n",
      "13294/13294 [==============================] - 185s 14ms/step - loss: 0.4740 - accuracy: 0.7412 - val_loss: 0.9382 - val_accuracy: 0.6379\n",
      "Epoch 71/200\n",
      "13294/13294 [==============================] - 187s 14ms/step - loss: 0.4763 - accuracy: 0.7402 - val_loss: 0.8891 - val_accuracy: 0.6373\n",
      "Epoch 72/200\n",
      "13294/13294 [==============================] - 190s 14ms/step - loss: 0.4732 - accuracy: 0.7415 - val_loss: 0.9239 - val_accuracy: 0.6342\n",
      "Epoch 73/200\n",
      "13294/13294 [==============================] - 189s 14ms/step - loss: 0.4766 - accuracy: 0.7412 - val_loss: 0.8689 - val_accuracy: 0.6400\n",
      "Epoch 74/200\n",
      "13294/13294 [==============================] - 186s 14ms/step - loss: 0.4743 - accuracy: 0.7411 - val_loss: 0.9060 - val_accuracy: 0.6356\n",
      "Epoch 75/200\n",
      "13294/13294 [==============================] - 184s 14ms/step - loss: 0.4785 - accuracy: 0.7390 - val_loss: 0.8638 - val_accuracy: 0.6368\n",
      "Epoch 76/200\n",
      "13294/13294 [==============================] - 184s 14ms/step - loss: 0.4763 - accuracy: 0.7397 - val_loss: 0.9105 - val_accuracy: 0.6365\n",
      "Epoch 77/200\n",
      "13294/13294 [==============================] - 186s 14ms/step - loss: 0.4742 - accuracy: 0.7411 - val_loss: 0.8158 - val_accuracy: 0.6380\n",
      "Epoch 78/200\n",
      "13294/13294 [==============================] - 185s 14ms/step - loss: 0.4747 - accuracy: 0.7410 - val_loss: 0.8595 - val_accuracy: 0.6378\n",
      "Epoch 79/200\n",
      "13294/13294 [==============================] - 188s 14ms/step - loss: 0.4757 - accuracy: 0.7401 - val_loss: 0.8594 - val_accuracy: 0.6369\n",
      "Epoch 80/200\n",
      "13294/13294 [==============================] - 184s 14ms/step - loss: 0.4788 - accuracy: 0.7391 - val_loss: 0.8646 - val_accuracy: 0.6371\n",
      "Epoch 81/200\n",
      "13294/13294 [==============================] - 184s 14ms/step - loss: 0.4747 - accuracy: 0.7406 - val_loss: 0.8801 - val_accuracy: 0.6381\n",
      "Epoch 82/200\n",
      "13294/13294 [==============================] - 186s 14ms/step - loss: 0.4785 - accuracy: 0.7393 - val_loss: 0.8464 - val_accuracy: 0.6392\n",
      "Epoch 83/200\n",
      "13294/13294 [==============================] - 189s 14ms/step - loss: 0.4798 - accuracy: 0.7383 - val_loss: 0.8696 - val_accuracy: 0.6359\n",
      "Epoch 84/200\n",
      "13294/13294 [==============================] - 183s 14ms/step - loss: 0.4772 - accuracy: 0.7396 - val_loss: 0.8882 - val_accuracy: 0.6353\n",
      "Epoch 85/200\n",
      "13294/13294 [==============================] - 187s 14ms/step - loss: 0.4822 - accuracy: 0.7379 - val_loss: 0.7770 - val_accuracy: 0.6356\n",
      "Epoch 86/200\n",
      "13294/13294 [==============================] - 189s 14ms/step - loss: 0.4837 - accuracy: 0.7368 - val_loss: 0.8437 - val_accuracy: 0.6384\n",
      "Epoch 87/200\n",
      "13294/13294 [==============================] - 190s 14ms/step - loss: 0.4813 - accuracy: 0.7378 - val_loss: 0.8538 - val_accuracy: 0.6352\n",
      "Epoch 88/200\n",
      "13294/13294 [==============================] - 190s 14ms/step - loss: 0.4771 - accuracy: 0.7395 - val_loss: 0.8811 - val_accuracy: 0.6392\n",
      "Epoch 89/200\n",
      "13294/13294 [==============================] - 190s 14ms/step - loss: 0.4774 - accuracy: 0.7396 - val_loss: 1.2594 - val_accuracy: 0.6384\n",
      "Epoch 90/200\n",
      "13294/13294 [==============================] - 190s 14ms/step - loss: 0.4783 - accuracy: 0.7393 - val_loss: 0.8897 - val_accuracy: 0.6367\n",
      "Epoch 91/200\n",
      "13294/13294 [==============================] - 189s 14ms/step - loss: 0.4862 - accuracy: 0.7394 - val_loss: 0.9735 - val_accuracy: 0.6368\n",
      "Epoch 92/200\n",
      "13294/13294 [==============================] - 190s 14ms/step - loss: 0.4869 - accuracy: 0.7354 - val_loss: 0.7863 - val_accuracy: 0.6380\n",
      "Epoch 93/200\n",
      "13294/13294 [==============================] - 188s 14ms/step - loss: 0.4841 - accuracy: 0.7363 - val_loss: 0.8340 - val_accuracy: 0.6389\n",
      "Epoch 94/200\n",
      "13294/13294 [==============================] - 179s 13ms/step - loss: 0.4784 - accuracy: 0.7388 - val_loss: 0.9198 - val_accuracy: 0.6388\n",
      "Epoch 95/200\n",
      "13294/13294 [==============================] - 178s 13ms/step - loss: 0.4782 - accuracy: 0.7391 - val_loss: 0.8716 - val_accuracy: 0.6353\n",
      "Epoch 96/200\n",
      "13294/13294 [==============================] - 179s 14ms/step - loss: 0.4806 - accuracy: 0.7381 - val_loss: 0.8589 - val_accuracy: 0.6369\n",
      "Epoch 97/200\n",
      "13294/13294 [==============================] - 179s 13ms/step - loss: 0.4804 - accuracy: 0.7382 - val_loss: 0.8151 - val_accuracy: 0.6360\n",
      "Epoch 98/200\n",
      "13294/13294 [==============================] - 179s 13ms/step - loss: 0.4797 - accuracy: 0.7385 - val_loss: 0.8941 - val_accuracy: 0.6344\n",
      "Epoch 99/200\n",
      "13294/13294 [==============================] - 180s 14ms/step - loss: 0.4824 - accuracy: 0.7372 - val_loss: 0.8029 - val_accuracy: 0.6393\n",
      "Epoch 100/200\n",
      "13294/13294 [==============================] - 181s 14ms/step - loss: 0.4844 - accuracy: 0.7362 - val_loss: 0.8029 - val_accuracy: 0.6366\n",
      "Epoch 101/200\n",
      "13294/13294 [==============================] - 182s 14ms/step - loss: 0.4889 - accuracy: 0.7359 - val_loss: 0.8189 - val_accuracy: 0.6380\n",
      "Epoch 102/200\n",
      "13294/13294 [==============================] - 182s 14ms/step - loss: 0.4831 - accuracy: 0.7369 - val_loss: 0.8531 - val_accuracy: 0.6384\n",
      "Epoch 103/200\n",
      "13294/13294 [==============================] - 179s 13ms/step - loss: 0.4847 - accuracy: 0.7364 - val_loss: 0.8468 - val_accuracy: 0.6335\n",
      "Epoch 104/200\n",
      "13294/13294 [==============================] - 180s 14ms/step - loss: 0.4832 - accuracy: 0.7372 - val_loss: 0.8418 - val_accuracy: 0.6361\n",
      "Epoch 105/200\n",
      "13294/13294 [==============================] - 186s 14ms/step - loss: 0.4839 - accuracy: 0.7368 - val_loss: 1.1670 - val_accuracy: 0.6354\n",
      "Epoch 106/200\n",
      "13294/13294 [==============================] - 183s 14ms/step - loss: 0.4819 - accuracy: 0.7377 - val_loss: 0.9531 - val_accuracy: 0.6356\n",
      "Epoch 107/200\n",
      "13294/13294 [==============================] - 182s 14ms/step - loss: 0.4785 - accuracy: 0.7392 - val_loss: 0.8884 - val_accuracy: 0.6361\n",
      "Epoch 108/200\n",
      "13294/13294 [==============================] - 180s 14ms/step - loss: 0.4781 - accuracy: 0.7401 - val_loss: 0.8201 - val_accuracy: 0.6352\n",
      "Epoch 109/200\n",
      "13294/13294 [==============================] - 182s 14ms/step - loss: 0.4769 - accuracy: 0.7400 - val_loss: 0.8491 - val_accuracy: 0.6351\n",
      "Epoch 110/200\n",
      "13294/13294 [==============================] - 180s 14ms/step - loss: 0.4810 - accuracy: 0.7383 - val_loss: 0.8363 - val_accuracy: 0.6348\n",
      "Epoch 111/200\n",
      "13294/13294 [==============================] - 207s 16ms/step - loss: 0.4795 - accuracy: 0.7392 - val_loss: 0.8065 - val_accuracy: 0.6377\n",
      "Epoch 112/200\n",
      "13294/13294 [==============================] - 178s 13ms/step - loss: 0.4805 - accuracy: 0.7380 - val_loss: 0.9508 - val_accuracy: 0.6381\n",
      "Epoch 113/200\n",
      "13294/13294 [==============================] - 178s 13ms/step - loss: 0.4781 - accuracy: 0.7392 - val_loss: 0.9665 - val_accuracy: 0.6347\n",
      "Epoch 114/200\n",
      "13294/13294 [==============================] - 176s 13ms/step - loss: 0.4735 - accuracy: 0.7414 - val_loss: 1.4268 - val_accuracy: 0.6350\n",
      "Epoch 115/200\n",
      "13294/13294 [==============================] - 179s 13ms/step - loss: 0.4712 - accuracy: 0.7425 - val_loss: 1.0416 - val_accuracy: 0.6372\n",
      "Epoch 116/200\n",
      "13294/13294 [==============================] - 176s 13ms/step - loss: 0.4720 - accuracy: 0.7425 - val_loss: 0.9387 - val_accuracy: 0.6361\n",
      "Epoch 117/200\n",
      "13294/13294 [==============================] - 180s 14ms/step - loss: 0.4709 - accuracy: 0.7428 - val_loss: 0.8868 - val_accuracy: 0.6371\n",
      "Epoch 118/200\n",
      "13294/13294 [==============================] - 178s 13ms/step - loss: 0.4783 - accuracy: 0.7422 - val_loss: 0.7842 - val_accuracy: 0.6343\n",
      "Epoch 119/200\n",
      "13294/13294 [==============================] - 179s 13ms/step - loss: 0.4840 - accuracy: 0.7398 - val_loss: 0.8228 - val_accuracy: 0.6374\n",
      "Epoch 120/200\n",
      "13294/13294 [==============================] - 182s 14ms/step - loss: 0.4829 - accuracy: 0.7387 - val_loss: 0.8376 - val_accuracy: 0.6387\n",
      "Epoch 121/200\n",
      "13294/13294 [==============================] - 185s 14ms/step - loss: 0.4875 - accuracy: 0.7365 - val_loss: 0.7611 - val_accuracy: 0.6339\n",
      "Epoch 122/200\n",
      "13294/13294 [==============================] - 197s 15ms/step - loss: 0.4862 - accuracy: 0.7364 - val_loss: 0.7605 - val_accuracy: 0.6337\n",
      "Epoch 123/200\n",
      "13294/13294 [==============================] - 185s 14ms/step - loss: 0.4823 - accuracy: 0.7381 - val_loss: 0.8290 - val_accuracy: 0.6395\n",
      "Epoch 124/200\n",
      "13294/13294 [==============================] - 181s 14ms/step - loss: 0.4853 - accuracy: 0.7369 - val_loss: 0.8354 - val_accuracy: 0.6382\n",
      "Epoch 125/200\n",
      "13294/13294 [==============================] - 180s 14ms/step - loss: 0.4900 - accuracy: 0.7355 - val_loss: 0.8374 - val_accuracy: 0.6381\n",
      "Epoch 126/200\n",
      "13294/13294 [==============================] - 183s 14ms/step - loss: 0.4900 - accuracy: 0.7356 - val_loss: 0.8356 - val_accuracy: 0.6371\n",
      "Epoch 127/200\n",
      "13294/13294 [==============================] - 184s 14ms/step - loss: 0.5031 - accuracy: 0.7337 - val_loss: 0.7687 - val_accuracy: 0.6376\n",
      "Epoch 128/200\n",
      "13294/13294 [==============================] - 176s 13ms/step - loss: 0.4994 - accuracy: 0.7310 - val_loss: 0.7371 - val_accuracy: 0.6403\n",
      "Epoch 129/200\n",
      "13294/13294 [==============================] - 190s 14ms/step - loss: 0.4969 - accuracy: 0.7324 - val_loss: 0.7650 - val_accuracy: 0.6363\n",
      "Epoch 130/200\n",
      "13294/13294 [==============================] - 196s 15ms/step - loss: 0.4949 - accuracy: 0.7335 - val_loss: 0.7792 - val_accuracy: 0.6361\n",
      "Epoch 131/200\n",
      "13294/13294 [==============================] - 181s 14ms/step - loss: 0.5008 - accuracy: 0.7314 - val_loss: 0.7749 - val_accuracy: 0.6362\n",
      "Epoch 132/200\n",
      "13294/13294 [==============================] - 187s 14ms/step - loss: 0.5052 - accuracy: 0.7295 - val_loss: 0.7855 - val_accuracy: 0.6383\n",
      "Epoch 133/200\n",
      "13294/13294 [==============================] - 188s 14ms/step - loss: 0.5030 - accuracy: 0.7307 - val_loss: 0.7459 - val_accuracy: 0.6363\n",
      "Epoch 134/200\n",
      "13294/13294 [==============================] - 187s 14ms/step - loss: 0.4983 - accuracy: 0.7326 - val_loss: 0.7763 - val_accuracy: 0.6379\n",
      "Epoch 135/200\n",
      "13294/13294 [==============================] - 188s 14ms/step - loss: 0.4936 - accuracy: 0.7339 - val_loss: 0.7488 - val_accuracy: 0.6388\n",
      "Epoch 136/200\n",
      "13294/13294 [==============================] - 187s 14ms/step - loss: 0.4936 - accuracy: 0.7342 - val_loss: 0.8260 - val_accuracy: 0.6350\n",
      "Epoch 137/200\n",
      "13294/13294 [==============================] - 187s 14ms/step - loss: 0.4970 - accuracy: 0.7335 - val_loss: 0.7627 - val_accuracy: 0.6349\n",
      "Epoch 138/200\n",
      "13294/13294 [==============================] - 187s 14ms/step - loss: 0.4948 - accuracy: 0.7339 - val_loss: 0.7641 - val_accuracy: 0.6369\n",
      "Epoch 139/200\n",
      "13294/13294 [==============================] - 188s 14ms/step - loss: 0.4972 - accuracy: 0.7330 - val_loss: 0.7600 - val_accuracy: 0.6370\n",
      "Epoch 140/200\n",
      "13294/13294 [==============================] - 187s 14ms/step - loss: 0.4908 - accuracy: 0.7349 - val_loss: 0.7917 - val_accuracy: 0.6349\n",
      "Epoch 141/200\n",
      "13294/13294 [==============================] - 187s 14ms/step - loss: 0.4933 - accuracy: 0.7349 - val_loss: 0.7626 - val_accuracy: 0.6359\n",
      "Epoch 142/200\n",
      "13294/13294 [==============================] - 187s 14ms/step - loss: 0.4954 - accuracy: 0.7336 - val_loss: 0.7618 - val_accuracy: 0.6369\n",
      "Epoch 143/200\n",
      "13294/13294 [==============================] - 188s 14ms/step - loss: 0.5030 - accuracy: 0.7340 - val_loss: 0.7676 - val_accuracy: 0.6352\n",
      "Epoch 144/200\n",
      "13294/13294 [==============================] - 186s 14ms/step - loss: 0.4883 - accuracy: 0.7367 - val_loss: 0.7620 - val_accuracy: 0.6328\n",
      "Epoch 145/200\n",
      "13294/13294 [==============================] - 172s 13ms/step - loss: 0.4859 - accuracy: 0.7376 - val_loss: 0.7813 - val_accuracy: 0.6343\n",
      "Epoch 146/200\n",
      "13294/13294 [==============================] - 189s 14ms/step - loss: 0.4898 - accuracy: 0.7369 - val_loss: 0.7883 - val_accuracy: 0.6303\n",
      "Epoch 147/200\n",
      "13294/13294 [==============================] - 190s 14ms/step - loss: 0.4920 - accuracy: 0.7355 - val_loss: 0.7990 - val_accuracy: 0.6363\n",
      "Epoch 148/200\n",
      "13294/13294 [==============================] - 172s 13ms/step - loss: 0.4933 - accuracy: 0.7353 - val_loss: 0.8290 - val_accuracy: 0.6385\n",
      "Epoch 149/200\n",
      "13294/13294 [==============================] - 190s 14ms/step - loss: 0.4921 - accuracy: 0.7363 - val_loss: 0.7737 - val_accuracy: 0.6357\n",
      "Epoch 150/200\n",
      "13294/13294 [==============================] - 189s 14ms/step - loss: 0.4932 - accuracy: 0.7357 - val_loss: 0.7845 - val_accuracy: 0.6323\n",
      "Epoch 151/200\n",
      "13294/13294 [==============================] - 182s 14ms/step - loss: 0.4857 - accuracy: 0.7379 - val_loss: 0.7597 - val_accuracy: 0.6330\n",
      "Epoch 152/200\n",
      "13294/13294 [==============================] - 188s 14ms/step - loss: 0.5384 - accuracy: 0.7180 - val_loss: 0.7837 - val_accuracy: 0.6292\n",
      "Epoch 153/200\n",
      "13294/13294 [==============================] - 188s 14ms/step - loss: 0.5192 - accuracy: 0.7268 - val_loss: 0.7330 - val_accuracy: 0.6329\n",
      "Epoch 154/200\n",
      "13294/13294 [==============================] - 189s 14ms/step - loss: 0.5145 - accuracy: 0.7283 - val_loss: 0.7165 - val_accuracy: 0.6401\n",
      "Epoch 155/200\n",
      "13294/13294 [==============================] - 189s 14ms/step - loss: 0.6005 - accuracy: 0.7229 - val_loss: 0.6958 - val_accuracy: 0.6337\n",
      "Epoch 156/200\n",
      "13294/13294 [==============================] - 189s 14ms/step - loss: 0.5357 - accuracy: 0.7087 - val_loss: 0.6931 - val_accuracy: 0.5002\n",
      "Epoch 157/200\n",
      "13294/13294 [==============================] - 188s 14ms/step - loss: 0.6843 - accuracy: 0.5138 - val_loss: 0.7420 - val_accuracy: 0.6297\n",
      "Epoch 158/200\n",
      "13294/13294 [==============================] - 188s 14ms/step - loss: 0.5318 - accuracy: 0.7216 - val_loss: 0.7112 - val_accuracy: 0.6364\n",
      "Epoch 159/200\n",
      "13294/13294 [==============================] - 189s 14ms/step - loss: 0.5228 - accuracy: 0.7242 - val_loss: 0.7352 - val_accuracy: 0.6348\n",
      "Epoch 160/200\n",
      "13294/13294 [==============================] - 188s 14ms/step - loss: 0.5087 - accuracy: 0.7280 - val_loss: 0.7544 - val_accuracy: 0.6340\n",
      "Epoch 161/200\n",
      "13294/13294 [==============================] - 188s 14ms/step - loss: 0.5058 - accuracy: 0.7298 - val_loss: 0.7510 - val_accuracy: 0.6356\n",
      "Epoch 162/200\n",
      "13294/13294 [==============================] - 189s 14ms/step - loss: 0.5091 - accuracy: 0.7313 - val_loss: 0.7549 - val_accuracy: 0.6314\n",
      "Epoch 163/200\n",
      "13294/13294 [==============================] - 189s 14ms/step - loss: 0.5017 - accuracy: 0.7316 - val_loss: 0.7550 - val_accuracy: 0.6361\n",
      "Epoch 164/200\n",
      "13294/13294 [==============================] - 189s 14ms/step - loss: 0.4974 - accuracy: 0.7333 - val_loss: 0.7792 - val_accuracy: 0.6339\n",
      "Epoch 165/200\n",
      "13294/13294 [==============================] - 189s 14ms/step - loss: 0.4949 - accuracy: 0.7348 - val_loss: 0.7714 - val_accuracy: 0.6345\n",
      "Epoch 166/200\n",
      "13294/13294 [==============================] - 188s 14ms/step - loss: 0.4941 - accuracy: 0.7357 - val_loss: 0.7801 - val_accuracy: 0.6312\n",
      "Epoch 167/200\n",
      "13294/13294 [==============================] - 189s 14ms/step - loss: 0.4966 - accuracy: 0.7351 - val_loss: 0.7905 - val_accuracy: 0.6277\n",
      "Epoch 168/200\n",
      "13294/13294 [==============================] - 189s 14ms/step - loss: 0.5094 - accuracy: 0.7326 - val_loss: 0.7754 - val_accuracy: 0.6332\n",
      "Epoch 169/200\n",
      "13294/13294 [==============================] - 188s 14ms/step - loss: 0.4991 - accuracy: 0.7345 - val_loss: 0.7750 - val_accuracy: 0.6308\n",
      "Epoch 170/200\n",
      "13294/13294 [==============================] - 189s 14ms/step - loss: 0.4999 - accuracy: 0.7331 - val_loss: 0.8126 - val_accuracy: 0.6321\n",
      "Epoch 171/200\n",
      "13294/13294 [==============================] - 184s 14ms/step - loss: 0.6135 - accuracy: 0.6015 - val_loss: 0.6960 - val_accuracy: 0.4998\n",
      "Epoch 172/200\n",
      "13294/13294 [==============================] - 177s 13ms/step - loss: 0.5363 - accuracy: 0.7004 - val_loss: 0.7287 - val_accuracy: 0.6337\n",
      "Epoch 173/200\n",
      "13294/13294 [==============================] - 171s 13ms/step - loss: 0.5111 - accuracy: 0.7329 - val_loss: 0.7538 - val_accuracy: 0.6291\n",
      "Epoch 174/200\n",
      "13294/13294 [==============================] - 191s 14ms/step - loss: 0.4999 - accuracy: 0.7338 - val_loss: 0.7734 - val_accuracy: 0.6322\n",
      "Epoch 175/200\n",
      "13294/13294 [==============================] - 178s 13ms/step - loss: 0.4994 - accuracy: 0.7348 - val_loss: 0.7913 - val_accuracy: 0.6319\n",
      "Epoch 176/200\n",
      "13294/13294 [==============================] - 191s 14ms/step - loss: 0.5100 - accuracy: 0.7337 - val_loss: 0.7237 - val_accuracy: 0.6328\n",
      "Epoch 177/200\n",
      "13294/13294 [==============================] - 199s 15ms/step - loss: 0.5156 - accuracy: 0.7295 - val_loss: 0.7167 - val_accuracy: 0.6251\n",
      "Epoch 178/200\n",
      "13294/13294 [==============================] - 192s 14ms/step - loss: 0.5218 - accuracy: 0.7204 - val_loss: 0.6947 - val_accuracy: 0.5002\n",
      "Epoch 179/200\n",
      "13294/13294 [==============================] - 185s 14ms/step - loss: 0.5267 - accuracy: 0.7163 - val_loss: 0.7466 - val_accuracy: 0.6330\n",
      "Epoch 180/200\n",
      "13294/13294 [==============================] - 178s 13ms/step - loss: 0.5122 - accuracy: 0.7302 - val_loss: 0.7248 - val_accuracy: 0.6278\n",
      "Epoch 181/200\n",
      "13294/13294 [==============================] - 175s 13ms/step - loss: 0.5050 - accuracy: 0.7308 - val_loss: 0.7485 - val_accuracy: 0.6318\n",
      "Epoch 182/200\n",
      "13294/13294 [==============================] - 173s 13ms/step - loss: 0.4979 - accuracy: 0.7332 - val_loss: 0.7700 - val_accuracy: 0.6303\n",
      "Epoch 183/200\n",
      "13294/13294 [==============================] - 188s 14ms/step - loss: 0.4930 - accuracy: 0.7353 - val_loss: 0.7610 - val_accuracy: 0.6335\n",
      "Epoch 184/200\n",
      "13294/13294 [==============================] - 209s 16ms/step - loss: 0.4900 - accuracy: 0.7368 - val_loss: 0.7973 - val_accuracy: 0.6337\n",
      "Epoch 185/200\n",
      "13294/13294 [==============================] - 207s 16ms/step - loss: 0.4979 - accuracy: 0.7350 - val_loss: 0.7811 - val_accuracy: 0.6317\n",
      "Epoch 186/200\n",
      "13294/13294 [==============================] - 195s 15ms/step - loss: 0.4984 - accuracy: 0.7329 - val_loss: 0.7559 - val_accuracy: 0.6318\n",
      "Epoch 187/200\n",
      "13294/13294 [==============================] - 198s 15ms/step - loss: 0.4988 - accuracy: 0.7325 - val_loss: 0.7924 - val_accuracy: 0.6332\n",
      "Epoch 188/200\n",
      "13294/13294 [==============================] - 196s 15ms/step - loss: 0.4987 - accuracy: 0.7334 - val_loss: 0.7861 - val_accuracy: 0.6357\n",
      "Epoch 189/200\n",
      "13294/13294 [==============================] - 187s 14ms/step - loss: 0.4984 - accuracy: 0.7333 - val_loss: 0.8253 - val_accuracy: 0.6364\n",
      "Epoch 190/200\n",
      "13294/13294 [==============================] - 186s 14ms/step - loss: 0.5045 - accuracy: 0.7335 - val_loss: 0.7074 - val_accuracy: 0.6336\n",
      "Epoch 191/200\n",
      "13294/13294 [==============================] - 187s 14ms/step - loss: 0.5026 - accuracy: 0.7337 - val_loss: 0.7966 - val_accuracy: 0.6338\n",
      "Epoch 192/200\n",
      "13294/13294 [==============================] - 186s 14ms/step - loss: 0.5156 - accuracy: 0.7290 - val_loss: 0.7113 - val_accuracy: 0.6325\n",
      "Epoch 193/200\n",
      "13294/13294 [==============================] - 187s 14ms/step - loss: 0.5185 - accuracy: 0.7294 - val_loss: 0.7273 - val_accuracy: 0.6352\n",
      "Epoch 194/200\n",
      "13294/13294 [==============================] - 188s 14ms/step - loss: 0.5194 - accuracy: 0.7278 - val_loss: 0.7361 - val_accuracy: 0.6300\n",
      "Epoch 195/200\n",
      "13294/13294 [==============================] - 187s 14ms/step - loss: 0.5072 - accuracy: 0.7306 - val_loss: 0.7981 - val_accuracy: 0.6319\n",
      "Epoch 196/200\n",
      "13294/13294 [==============================] - 187s 14ms/step - loss: 0.5013 - accuracy: 0.7330 - val_loss: 0.7700 - val_accuracy: 0.6318\n",
      "Epoch 197/200\n",
      "13294/13294 [==============================] - 190s 14ms/step - loss: 0.4976 - accuracy: 0.7346 - val_loss: 0.7915 - val_accuracy: 0.6319\n",
      "Epoch 198/200\n",
      "13294/13294 [==============================] - 179s 13ms/step - loss: 0.4959 - accuracy: 0.7352 - val_loss: 0.7884 - val_accuracy: 0.6307\n",
      "Epoch 199/200\n",
      "13294/13294 [==============================] - 177s 13ms/step - loss: 0.5047 - accuracy: 0.7350 - val_loss: 0.7437 - val_accuracy: 0.6347\n",
      "Epoch 200/200\n",
      "13294/13294 [==============================] - 181s 14ms/step - loss: 0.4996 - accuracy: 0.7346 - val_loss: 0.8039 - val_accuracy: 0.6331\n"
     ]
    }
   ],
   "source": [
    "num_epochs = 200\n",
    "training_padded = np.array(training_padded)\n",
    "training_labels = np.array(training_labels)\n",
    "testing_padded = np.array(testing_padded)\n",
    "testing_labels = np.array(testing_labels)\n",
    "history = model.fit(training_padded, training_labels, epochs=num_epochs, validation_data=(testing_padded, testing_labels), verbose=1,batch_size=200)"
   ]
  },
  {
   "cell_type": "code",
   "execution_count": 15,
   "id": "5b98abc5",
   "metadata": {},
   "outputs": [],
   "source": [
    "model.save('./model/model.keras')"
   ]
  },
  {
   "cell_type": "code",
   "execution_count": 16,
   "metadata": {},
   "outputs": [
    {
     "data": {
      "text/plain": [
       "Text(0.5, 0, 'Época')"
      ]
     },
     "execution_count": 16,
     "metadata": {},
     "output_type": "execute_result"
    },
    {
     "data": {
      "image/png": "[encoded data removed]",
      "text/plain": [
       "<Figure size 640x480 with 1 Axes>"
      ]
     },
     "metadata": {},
     "output_type": "display_data"
    }
   ],
   "source": [
    "import matplotlib.pyplot as plt\n",
    "plt.plot(history.history[\"accuracy\"])\n",
    "plt.plot(history.history[\"val_accuracy\"])\n",
    "plt.legend([\"Acurácia de treino\", \"Acurácia de teste\"])\n",
    "plt.xlabel(\"Época\")"
   ]
  },
  {
   "cell_type": "code",
   "execution_count": 17,
   "id": "cb2d5c32",
   "metadata": {},
   "outputs": [
    {
     "data": {
      "text/plain": [
       "Text(0.5, 0, 'Época')"
      ]
     },
     "execution_count": 17,
     "metadata": {},
     "output_type": "execute_result"
    },
    {
     "data": {
      "image/png": "[encoded data removed]",
      "text/plain": [
       "<Figure size 640x480 with 1 Axes>"
      ]
     },
     "metadata": {},
     "output_type": "display_data"
    }
   ],
   "source": [
    "plt.plot(history.history[\"loss\"])\n",
    "plt.plot(history.history[\"val_loss\"])\n",
    "plt.legend([\"Perda de treino\", \"Perda de teste\"])\n",
    "plt.xlabel(\"Época\")"
   ]
  },
  {
   "cell_type": "code",
   "execution_count": 26,
   "metadata": {},
   "outputs": [
    {
     "name": "stdout",
     "output_type": "stream",
     "text": [
      "[[1]]\n",
      "1/1 [==============================] - 0s 22ms/step\n"
     ]
    },
    {
     "data": {
      "text/plain": [
       "array([[0.13340281]], dtype=float32)"
      ]
     },
     "execution_count": 26,
     "metadata": {},
     "output_type": "execute_result"
    }
   ],
   "source": [
    "padded_test_phrase = pad_sequences(tokenizer.texts_to_sequences([\"運もありそう\t\"]))\n",
    "print(padded_test_phrase)\n",
    "model.predict(padded_test_phrase)"
   ]
  }
 ],
 "metadata": {
  "kernelspec": {
   "display_name": "Python 3",
   "language": "python",
   "name": "python3"
  },
  "language_info": {
   "codemirror_mode": {
    "name": "ipython",
    "version": 3
   },
   "file_extension": ".py",
   "mimetype": "text/x-python",
   "name": "python",
   "nbconvert_exporter": "python",
   "pygments_lexer": "ipython3",
   "version": "3.10.12"
  },
  "papermill": {
   "default_parameters": {},
   "duration": 13603.08694,
   "end_time": "2022-03-21T19:23:03.198976",
   "environment_variables": {},
   "exception": null,
   "input_path": "__notebook__.ipynb",
   "output_path": "__notebook__.ipynb",
   "parameters": {},
   "start_time": "2022-03-21T15:36:20.112036",
   "version": "2.3.3"
  }
 },
 "nbformat": 4,
 "nbformat_minor": 5
}
