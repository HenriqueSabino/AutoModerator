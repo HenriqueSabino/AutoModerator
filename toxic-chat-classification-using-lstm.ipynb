{
 "cells": [
  {
   "cell_type": "code",
   "execution_count": 1,
   "id": "2690d9a5",
   "metadata": {
    "_cell_guid": "b1076dfc-b9ad-4769-8c92-a6c4dae69d19",
    "_uuid": "8f2839f25d086af736a60e9eeb907d3b93b6e0e5",
    "execution": {
     "iopub.execute_input": "2022-03-21T15:36:27.959940Z",
     "iopub.status.busy": "2022-03-21T15:36:27.958451Z",
     "iopub.status.idle": "2022-03-21T15:36:27.980959Z",
     "shell.execute_reply": "2022-03-21T15:36:27.980437Z",
     "shell.execute_reply.started": "2022-03-21T15:34:00.386690Z"
    },
    "papermill": {
     "duration": 0.042766,
     "end_time": "2022-03-21T15:36:27.981099",
     "exception": false,
     "start_time": "2022-03-21T15:36:27.938333",
     "status": "completed"
    },
    "tags": []
   },
   "outputs": [],
   "source": [
    "# This Python 3 environment comes with many helpful analytics libraries installed\n",
    "# It is defined by the kaggle/python Docker image: https://github.com/kaggle/docker-python\n",
    "# For example, here's several helpful packages to load\n",
    "\n",
    "import numpy as np # linear algebra\n",
    "import pandas as pd # data processing, CSV file I/O (e.g. pd.read_csv)\n",
    "\n",
    "# Input data files are available in the read-only \"../input/\" directory\n",
    "# For example, running this (by clicking run or pressing Shift+Enter) will list all files under the input directory\n",
    "\n",
    "import os\n",
    "for dirname, _, filenames in os.walk('/kaggle/input'):\n",
    "    for filename in filenames:\n",
    "        print(os.path.join(dirname, filename))\n",
    "\n",
    "# You can write up to 20GB to the current directory (/kaggle/working/) that gets preserved as output when you create a version using \"Save & Run All\" \n",
    "# You can also write temporary files to /kaggle/temp/, but they won't be saved outside of the current session"
   ]
  },
  {
   "cell_type": "code",
   "execution_count": 2,
   "id": "1f339aa6",
   "metadata": {
    "execution": {
     "iopub.execute_input": "2022-03-21T15:36:28.013908Z",
     "iopub.status.busy": "2022-03-21T15:36:28.013378Z",
     "iopub.status.idle": "2022-03-21T15:36:32.458137Z",
     "shell.execute_reply": "2022-03-21T15:36:32.457483Z",
     "shell.execute_reply.started": "2022-03-21T15:34:01.632371Z"
    },
    "papermill": {
     "duration": 4.462246,
     "end_time": "2022-03-21T15:36:32.458322",
     "exception": false,
     "start_time": "2022-03-21T15:36:27.996076",
     "status": "completed"
    },
    "tags": []
   },
   "outputs": [
    {
     "name": "stderr",
     "output_type": "stream",
     "text": [
      "2024-02-18 08:22:36.982412: I tensorflow/core/util/port.cc:113] oneDNN custom operations are on. You may see slightly different numerical results due to floating-point round-off errors from different computation orders. To turn them off, set the environment variable `TF_ENABLE_ONEDNN_OPTS=0`.\n",
      "2024-02-18 08:22:37.213270: E external/local_xla/xla/stream_executor/cuda/cuda_dnn.cc:9261] Unable to register cuDNN factory: Attempting to register factory for plugin cuDNN when one has already been registered\n",
      "2024-02-18 08:22:37.213308: E external/local_xla/xla/stream_executor/cuda/cuda_fft.cc:607] Unable to register cuFFT factory: Attempting to register factory for plugin cuFFT when one has already been registered\n",
      "2024-02-18 08:22:37.253772: E external/local_xla/xla/stream_executor/cuda/cuda_blas.cc:1515] Unable to register cuBLAS factory: Attempting to register factory for plugin cuBLAS when one has already been registered\n",
      "2024-02-18 08:22:37.334539: I tensorflow/core/platform/cpu_feature_guard.cc:182] This TensorFlow binary is optimized to use available CPU instructions in performance-critical operations.\n",
      "To enable the following instructions: AVX2 AVX512F AVX512_VNNI FMA, in other operations, rebuild TensorFlow with the appropriate compiler flags.\n",
      "2024-02-18 08:22:38.318610: W tensorflow/compiler/tf2tensorrt/utils/py_utils.cc:38] TF-TRT Warning: Could not find TensorRT\n"
     ]
    }
   ],
   "source": [
    "import pandas as pd\n",
    "import tensorflow as tf\n",
    "import numpy as np\n",
    "from glob import glob"
   ]
  },
  {
   "cell_type": "code",
   "execution_count": 3,
   "id": "b05896ad",
   "metadata": {
    "execution": {
     "iopub.execute_input": "2022-03-21T15:36:32.496892Z",
     "iopub.status.busy": "2022-03-21T15:36:32.496131Z",
     "iopub.status.idle": "2022-03-21T15:36:37.987898Z",
     "shell.execute_reply": "2022-03-21T15:36:37.988520Z",
     "shell.execute_reply.started": "2022-03-21T15:34:06.734957Z"
    },
    "papermill": {
     "duration": 5.513858,
     "end_time": "2022-03-21T15:36:37.988754",
     "exception": false,
     "start_time": "2022-03-21T15:36:32.474896",
     "status": "completed"
    },
    "tags": []
   },
   "outputs": [],
   "source": [
    "df_nonflag = []\n",
    "df_flag =[]\n",
    "df_nonflag = pd.concat(\n",
    "    [pd.read_parquet(x) for x in glob('./dataset/chats_nonflag_*.parquet')],\n",
    "    ignore_index=True)\n",
    "df_flag = pd.concat(\n",
    "    [pd.read_parquet(x) for x in glob('./dataset/chats_flagged_*.parquet')],\n",
    "    ignore_index=True)\n",
    "\n",
    "df = pd.concat([df_nonflag, df_flag])"
   ]
  },
  {
   "cell_type": "code",
   "execution_count": 4,
   "id": "fef3775e",
   "metadata": {
    "execution": {
     "iopub.execute_input": "2022-03-21T15:36:38.044320Z",
     "iopub.status.busy": "2022-03-21T15:36:38.043590Z",
     "iopub.status.idle": "2022-03-21T15:36:39.505565Z",
     "shell.execute_reply": "2022-03-21T15:36:39.505952Z",
     "shell.execute_reply.started": "2022-03-21T15:34:13.972711Z"
    },
    "papermill": {
     "duration": 1.494201,
     "end_time": "2022-03-21T15:36:39.506102",
     "exception": false,
     "start_time": "2022-03-21T15:36:38.011901",
     "status": "completed"
    },
    "tags": []
   },
   "outputs": [
    {
     "data": {
      "text/plain": [
       "<Axes: ylabel='label'>"
      ]
     },
     "execution_count": 4,
     "metadata": {},
     "output_type": "execute_result"
    },
    {
     "data": {
      "image/png": "[encoded data removed]",
      "text/plain": [
       "<Figure size 640x480 with 1 Axes>"
      ]
     },
     "metadata": {},
     "output_type": "display_data"
    }
   ],
   "source": [
    "df['label'].value_counts().plot(kind='barh')"
   ]
  },
  {
   "cell_type": "markdown",
   "id": "d356de10",
   "metadata": {
    "papermill": {
     "duration": 0.014879,
     "end_time": "2022-03-21T15:36:39.536159",
     "exception": false,
     "start_time": "2022-03-21T15:36:39.521280",
     "status": "completed"
    },
    "tags": []
   },
   "source": [
    "## Remove Duplicate Data"
   ]
  },
  {
   "cell_type": "code",
   "execution_count": 5,
   "id": "42c9e518",
   "metadata": {
    "execution": {
     "iopub.execute_input": "2022-03-21T15:36:40.551921Z",
     "iopub.status.busy": "2022-03-21T15:36:39.775035Z",
     "iopub.status.idle": "2022-03-21T15:36:44.676822Z",
     "shell.execute_reply": "2022-03-21T15:36:44.676028Z",
     "shell.execute_reply.started": "2022-03-21T15:34:15.292831Z"
    },
    "papermill": {
     "duration": 5.125782,
     "end_time": "2022-03-21T15:36:44.676952",
     "exception": false,
     "start_time": "2022-03-21T15:36:39.551170",
     "status": "completed"
    },
    "tags": []
   },
   "outputs": [
    {
     "name": "stdout",
     "output_type": "stream",
     "text": [
      "Total data :  7700072\n",
      "Total data after duplicates removes :  3618758\n"
     ]
    }
   ],
   "source": [
    "## Remove duplicate\n",
    "print(\"Total data : \", len(df))\n",
    "print(\"Total data after duplicates removes : \", len(df.drop_duplicates()))"
   ]
  },
  {
   "cell_type": "code",
   "execution_count": 6,
   "id": "3ef7f798",
   "metadata": {
    "execution": {
     "iopub.execute_input": "2022-03-21T15:36:45.307147Z",
     "iopub.status.busy": "2022-03-21T15:36:45.306300Z",
     "iopub.status.idle": "2022-03-21T15:36:49.963578Z",
     "shell.execute_reply": "2022-03-21T15:36:49.964123Z",
     "shell.execute_reply.started": "2022-03-21T15:34:22.040260Z"
    },
    "papermill": {
     "duration": 5.271487,
     "end_time": "2022-03-21T15:36:49.964276",
     "exception": false,
     "start_time": "2022-03-21T15:36:44.692789",
     "status": "completed"
    },
    "tags": []
   },
   "outputs": [
    {
     "data": {
      "text/plain": [
       "<Axes: ylabel='label'>"
      ]
     },
     "execution_count": 6,
     "metadata": {},
     "output_type": "execute_result"
    },
    {
     "data": {
      "image/png": "[encoded data removed]",
      "text/plain": [
       "<Figure size 640x480 with 1 Axes>"
      ]
     },
     "metadata": {},
     "output_type": "display_data"
    }
   ],
   "source": [
    "df = df.drop_duplicates()\n",
    "df['label'].value_counts().plot(kind='barh')"
   ]
  },
  {
   "cell_type": "code",
   "execution_count": 7,
   "id": "a2bc4454",
   "metadata": {
    "execution": {
     "iopub.execute_input": "2022-03-21T15:36:50.320351Z",
     "iopub.status.busy": "2022-03-21T15:36:50.318903Z",
     "iopub.status.idle": "2022-03-21T15:36:53.335286Z",
     "shell.execute_reply": "2022-03-21T15:36:53.336473Z",
     "shell.execute_reply.started": "2022-03-21T15:34:29.159289Z"
    },
    "papermill": {
     "duration": 3.355141,
     "end_time": "2022-03-21T15:36:53.336688",
     "exception": false,
     "start_time": "2022-03-21T15:36:49.981547",
     "status": "completed"
    },
    "tags": []
   },
   "outputs": [
    {
     "data": {
      "text/html": [
       "<div>\n",
       "<style scoped>\n",
       "    .dataframe tbody tr th:only-of-type {\n",
       "        vertical-align: middle;\n",
       "    }\n",
       "\n",
       "    .dataframe tbody tr th {\n",
       "        vertical-align: top;\n",
       "    }\n",
       "\n",
       "    .dataframe thead th {\n",
       "        text-align: right;\n",
       "    }\n",
       "</style>\n",
       "<table border=\"1\" class=\"dataframe\">\n",
       "  <thead>\n",
       "    <tr style=\"text-align: right;\">\n",
       "      <th></th>\n",
       "      <th>body</th>\n",
       "      <th>label</th>\n",
       "    </tr>\n",
       "  </thead>\n",
       "  <tbody>\n",
       "    <tr>\n",
       "      <th>0</th>\n",
       "      <td>そうなんですか♫♫</td>\n",
       "      <td>0</td>\n",
       "    </tr>\n",
       "    <tr>\n",
       "      <th>1</th>\n",
       "      <td>古い…</td>\n",
       "      <td>0</td>\n",
       "    </tr>\n",
       "    <tr>\n",
       "      <th>2</th>\n",
       "      <td>gabisa donate hihihihi</td>\n",
       "      <td>1</td>\n",
       "    </tr>\n",
       "    <tr>\n",
       "      <th>3</th>\n",
       "      <td>宗谷さんのマブじゃん</td>\n",
       "      <td>0</td>\n",
       "    </tr>\n",
       "    <tr>\n",
       "      <th>4</th>\n",
       "      <td>witch part grow?</td>\n",
       "      <td>0</td>\n",
       "    </tr>\n",
       "  </tbody>\n",
       "</table>\n",
       "</div>"
      ],
      "text/plain": [
       "                     body  label\n",
       "0               そうなんですか♫♫      0\n",
       "1                     古い…      0\n",
       "2  gabisa donate hihihihi      1\n",
       "3              宗谷さんのマブじゃん      0\n",
       "4        witch part grow?      0"
      ]
     },
     "execution_count": 7,
     "metadata": {},
     "output_type": "execute_result"
    }
   ],
   "source": [
    "df_labeled = df\n",
    "df_labeled[\"label\"] = np.where(df[\"label\"].str.contains(\"nonflagged\"), 0, 1)\n",
    "df_labeled = df_labeled.sample(frac=1).reset_index(drop=True)\n",
    "df_labeled.head(5)\n",
    "#Flag = 1\n",
    "#Nonflag = 0"
   ]
  },
  {
   "cell_type": "markdown",
   "id": "0b891f5d",
   "metadata": {
    "papermill": {
     "duration": 0.029543,
     "end_time": "2022-03-21T15:36:53.396772",
     "exception": false,
     "start_time": "2022-03-21T15:36:53.367229",
     "status": "completed"
    },
    "tags": []
   },
   "source": [
    "## Hyperparameter"
   ]
  },
  {
   "cell_type": "code",
   "execution_count": 8,
   "id": "36a818f4",
   "metadata": {
    "execution": {
     "iopub.execute_input": "2022-03-21T15:36:53.458560Z",
     "iopub.status.busy": "2022-03-21T15:36:53.457888Z",
     "iopub.status.idle": "2022-03-21T15:36:54.567825Z",
     "shell.execute_reply": "2022-03-21T15:36:54.568322Z",
     "shell.execute_reply.started": "2022-03-21T15:34:33.554426Z"
    },
    "papermill": {
     "duration": 1.143586,
     "end_time": "2022-03-21T15:36:54.568467",
     "exception": false,
     "start_time": "2022-03-21T15:36:53.424881",
     "status": "completed"
    },
    "tags": []
   },
   "outputs": [
    {
     "name": "stderr",
     "output_type": "stream",
     "text": [
      "[nltk_data] Downloading package stopwords to\n",
      "[nltk_data]     /home/henriquesabino/nltk_data...\n",
      "[nltk_data]   Package stopwords is already up-to-date!\n"
     ]
    }
   ],
   "source": [
    "#Hyperparam\n",
    "vocab_size = 200000\n",
    "embedding_dim = 16\n",
    "max_length = 15\n",
    "trunc_type='post'\n",
    "padding_type='post'\n",
    "oov_tok = \"<OOV>\"\n",
    "\n",
    "#Removing stopwords\n",
    "import nltk.corpus\n",
    "nltk.download('stopwords')\n",
    "from nltk.corpus import stopwords\n",
    "stop = stopwords.words('english')"
   ]
  },
  {
   "cell_type": "code",
   "execution_count": 9,
   "id": "9980f587",
   "metadata": {
    "execution": {
     "iopub.execute_input": "2022-03-21T15:36:54.659781Z",
     "iopub.status.busy": "2022-03-21T15:36:54.644566Z",
     "iopub.status.idle": "2022-03-21T15:37:15.665326Z",
     "shell.execute_reply": "2022-03-21T15:37:15.664741Z",
     "shell.execute_reply.started": "2022-03-21T15:34:33.566496Z"
    },
    "papermill": {
     "duration": 21.079336,
     "end_time": "2022-03-21T15:37:15.665465",
     "exception": false,
     "start_time": "2022-03-21T15:36:54.586129",
     "status": "completed"
    },
    "tags": []
   },
   "outputs": [],
   "source": [
    "import re\n",
    "\n",
    "Words = []\n",
    "Labels = []\n",
    "for item in df_labeled.body :\n",
    "  #item = re.sub(r\"(@\\[A-Za-z0-9]+)|([^0-9A-Za-z \\t])|(\\w+:\\/\\/\\S+)|^rt|http.+?\", \"\", item)\n",
    "  item = \" \".join([word for word in item.split() if word not in (stop)])\n",
    "  Words.append(item)\n",
    "\n",
    "for item in df_labeled.label :\n",
    "  Labels.append(item)"
   ]
  },
  {
   "cell_type": "code",
   "execution_count": 10,
   "id": "a15b82ca",
   "metadata": {
    "execution": {
     "iopub.execute_input": "2022-03-21T15:37:15.713770Z",
     "iopub.status.busy": "2022-03-21T15:37:15.713104Z",
     "iopub.status.idle": "2022-03-21T15:37:34.727793Z",
     "shell.execute_reply": "2022-03-21T15:37:34.727295Z",
     "shell.execute_reply.started": "2022-03-21T15:34:58.333333Z"
    },
    "papermill": {
     "duration": 19.039798,
     "end_time": "2022-03-21T15:37:34.727935",
     "exception": false,
     "start_time": "2022-03-21T15:37:15.688137",
     "status": "completed"
    },
    "tags": []
   },
   "outputs": [],
   "source": [
    "from imblearn.under_sampling import RandomUnderSampler\n",
    "rus = RandomUnderSampler()\n",
    "Words = np.array(Words)\n",
    "Words_reshape = Words.reshape(-1, 1)\n",
    "X_rus, y_rus= rus.fit_resample(Words_reshape, Labels)\n",
    "\n",
    "from sklearn.model_selection import train_test_split\n",
    "training_sentences, testing_sentences, training_labels, testing_labels = train_test_split(X_rus, y_rus, test_size=0.15, random_state=42)\n",
    "\n",
    "training_sentences = training_sentences.tolist()\n",
    "testing_sentences = testing_sentences.tolist()\n",
    "\n",
    "training_sentences = [val for sublist in training_sentences for val in sublist]\n",
    "testing_sentences = [val for sublist in testing_sentences for val in sublist]"
   ]
  },
  {
   "cell_type": "code",
   "execution_count": 11,
   "id": "d01ba4b8",
   "metadata": {
    "execution": {
     "iopub.execute_input": "2022-03-21T15:37:34.770588Z",
     "iopub.status.busy": "2022-03-21T15:37:34.769917Z",
     "iopub.status.idle": "2022-03-21T15:38:52.081318Z",
     "shell.execute_reply": "2022-03-21T15:38:52.080815Z"
    },
    "papermill": {
     "duration": 77.335437,
     "end_time": "2022-03-21T15:38:52.081464",
     "exception": false,
     "start_time": "2022-03-21T15:37:34.746027",
     "status": "completed"
    },
    "tags": []
   },
   "outputs": [],
   "source": [
    "from keras.preprocessing.text import Tokenizer\n",
    "from keras.preprocessing.sequence import pad_sequences\n",
    "\n",
    "tokenizer = Tokenizer(num_words=vocab_size, oov_token=oov_tok)\n",
    "tokenizer.fit_on_texts(training_sentences)\n",
    "\n",
    "word_index = tokenizer.word_index\n",
    "\n",
    "training_sequences = tokenizer.texts_to_sequences(training_sentences)\n",
    "training_padded = pad_sequences(training_sequences, maxlen=max_length, padding=padding_type, truncating=trunc_type)\n",
    "\n",
    "testing_sequences = tokenizer.texts_to_sequences(testing_sentences)\n",
    "testing_padded = pad_sequences(testing_sequences, maxlen=max_length, padding=padding_type, truncating=trunc_type)"
   ]
  },
  {
   "cell_type": "markdown",
   "id": "a2260572",
   "metadata": {
    "papermill": {
     "duration": 0.017718,
     "end_time": "2022-03-21T15:38:52.117831",
     "exception": false,
     "start_time": "2022-03-21T15:38:52.100113",
     "status": "completed"
    },
    "tags": []
   },
   "source": [
    "## Create Model"
   ]
  },
  {
   "cell_type": "code",
   "execution_count": 12,
   "id": "429577de",
   "metadata": {
    "execution": {
     "iopub.execute_input": "2022-03-21T15:38:52.162045Z",
     "iopub.status.busy": "2022-03-21T15:38:52.161327Z",
     "iopub.status.idle": "2022-03-21T15:38:55.196894Z",
     "shell.execute_reply": "2022-03-21T15:38:55.197682Z"
    },
    "papermill": {
     "duration": 3.062051,
     "end_time": "2022-03-21T15:38:55.197865",
     "exception": false,
     "start_time": "2022-03-21T15:38:52.135814",
     "status": "completed"
    },
    "tags": []
   },
   "outputs": [
    {
     "name": "stderr",
     "output_type": "stream",
     "text": [
      "2024-02-18 08:23:47.225879: I external/local_xla/xla/stream_executor/cuda/cuda_executor.cc:887] could not open file to read NUMA node: /sys/bus/pci/devices/0000:01:00.0/numa_node\n",
      "Your kernel may have been built without NUMA support.\n",
      "2024-02-18 08:23:47.352181: I external/local_xla/xla/stream_executor/cuda/cuda_executor.cc:887] could not open file to read NUMA node: /sys/bus/pci/devices/0000:01:00.0/numa_node\n",
      "Your kernel may have been built without NUMA support.\n",
      "2024-02-18 08:23:47.352240: I external/local_xla/xla/stream_executor/cuda/cuda_executor.cc:887] could not open file to read NUMA node: /sys/bus/pci/devices/0000:01:00.0/numa_node\n",
      "Your kernel may have been built without NUMA support.\n",
      "2024-02-18 08:23:47.353918: I external/local_xla/xla/stream_executor/cuda/cuda_executor.cc:887] could not open file to read NUMA node: /sys/bus/pci/devices/0000:01:00.0/numa_node\n",
      "Your kernel may have been built without NUMA support.\n",
      "2024-02-18 08:23:47.353962: I external/local_xla/xla/stream_executor/cuda/cuda_executor.cc:887] could not open file to read NUMA node: /sys/bus/pci/devices/0000:01:00.0/numa_node\n",
      "Your kernel may have been built without NUMA support.\n",
      "2024-02-18 08:23:47.353989: I external/local_xla/xla/stream_executor/cuda/cuda_executor.cc:887] could not open file to read NUMA node: /sys/bus/pci/devices/0000:01:00.0/numa_node\n",
      "Your kernel may have been built without NUMA support.\n",
      "2024-02-18 08:23:47.482098: I external/local_xla/xla/stream_executor/cuda/cuda_executor.cc:887] could not open file to read NUMA node: /sys/bus/pci/devices/0000:01:00.0/numa_node\n",
      "Your kernel may have been built without NUMA support.\n",
      "2024-02-18 08:23:47.482171: I external/local_xla/xla/stream_executor/cuda/cuda_executor.cc:887] could not open file to read NUMA node: /sys/bus/pci/devices/0000:01:00.0/numa_node\n",
      "Your kernel may have been built without NUMA support.\n",
      "2024-02-18 08:23:47.482178: I tensorflow/core/common_runtime/gpu/gpu_device.cc:2022] Could not identify NUMA node of platform GPU id 0, defaulting to 0.  Your kernel may not have been built with NUMA support.\n",
      "2024-02-18 08:23:47.482214: I external/local_xla/xla/stream_executor/cuda/cuda_executor.cc:887] could not open file to read NUMA node: /sys/bus/pci/devices/0000:01:00.0/numa_node\n",
      "Your kernel may have been built without NUMA support.\n",
      "2024-02-18 08:23:47.482229: I tensorflow/core/common_runtime/gpu/gpu_device.cc:1929] Created device /job:localhost/replica:0/task:0/device:GPU:0 with 9711 MB memory:  -> device: 0, name: NVIDIA GeForce RTX 3060, pci bus id: 0000:01:00.0, compute capability: 8.6\n",
      "2024-02-18 08:23:48.012415: I external/local_tsl/tsl/platform/default/subprocess.cc:304] Start cannot spawn child process: No such file or directory\n"
     ]
    },
    {
     "name": "stdout",
     "output_type": "stream",
     "text": [
      "Model: \"sequential\"\n",
      "_________________________________________________________________\n",
      " Layer (type)                Output Shape              Param #   \n",
      "=================================================================\n",
      " embedding (Embedding)       (None, 15, 16)            3200000   \n",
      "                                                                 \n",
      " bidirectional (Bidirection  (None, 512)               559104    \n",
      " al)                                                             \n",
      "                                                                 \n",
      " dense (Dense)               (None, 128)               65664     \n",
      "                                                                 \n",
      " dense_1 (Dense)             (None, 256)               33024     \n",
      "                                                                 \n",
      " dense_2 (Dense)             (None, 512)               131584    \n",
      "                                                                 \n",
      " dense_3 (Dense)             (None, 512)               262656    \n",
      "                                                                 \n",
      " dense_4 (Dense)             (None, 256)               131328    \n",
      "                                                                 \n",
      " dense_5 (Dense)             (None, 128)               32896     \n",
      "                                                                 \n",
      " dense_6 (Dense)             (None, 64)                8256      \n",
      "                                                                 \n",
      " dense_7 (Dense)             (None, 32)                2080      \n",
      "                                                                 \n",
      " dense_8 (Dense)             (None, 1)                 33        \n",
      "                                                                 \n",
      "=================================================================\n",
      "Total params: 4426625 (16.89 MB)\n",
      "Trainable params: 4426625 (16.89 MB)\n",
      "Non-trainable params: 0 (0.00 Byte)\n",
      "_________________________________________________________________\n"
     ]
    }
   ],
   "source": [
    "model = tf.keras.Sequential([\n",
    "    tf.keras.layers.Embedding(vocab_size, embedding_dim, input_length=max_length),\n",
    "    tf.keras.layers.Bidirectional(tf.keras.layers.LSTM(256)),\n",
    "    tf.keras.layers.Dense(128, activation='relu'),\n",
    "    tf.keras.layers.Dense(256, activation='relu'),\n",
    "    tf.keras.layers.Dense(512, activation='relu'),\n",
    "    tf.keras.layers.Dense(512, activation='relu'),\n",
    "    tf.keras.layers.Dense(256, activation='relu'),\n",
    "    tf.keras.layers.Dense(128, activation='relu'),\n",
    "    tf.keras.layers.Dense(64, activation='relu'),\n",
    "    tf.keras.layers.Dense(32, activation='relu'),\n",
    "    tf.keras.layers.Dense(1, activation='sigmoid')\n",
    "])\n",
    "model.compile(loss='binary_crossentropy',optimizer='adam',metrics=['accuracy'])\n",
    "model.summary()"
   ]
  },
  {
   "cell_type": "code",
   "execution_count": 13,
   "id": "a62b4807",
   "metadata": {
    "execution": {
     "iopub.execute_input": "2022-03-21T15:38:55.241672Z",
     "iopub.status.busy": "2022-03-21T15:38:55.240627Z",
     "iopub.status.idle": "2022-03-21T19:16:43.469590Z",
     "shell.execute_reply": "2022-03-21T19:16:43.468985Z"
    },
    "papermill": {
     "duration": 13068.253264,
     "end_time": "2022-03-21T19:16:43.470186",
     "exception": false,
     "start_time": "2022-03-21T15:38:55.216922",
     "status": "completed"
    },
    "tags": []
   },
   "outputs": [
    {
     "name": "stdout",
     "output_type": "stream",
     "text": [
      "Epoch 1/100\n"
     ]
    },
    {
     "name": "stderr",
     "output_type": "stream",
     "text": [
      "2024-02-18 08:23:51.090083: I external/local_xla/xla/stream_executor/cuda/cuda_dnn.cc:454] Loaded cuDNN version 8904\n",
      "2024-02-18 08:23:51.565026: I external/local_xla/xla/service/service.cc:168] XLA service 0x7fab9dafc350 initialized for platform CUDA (this does not guarantee that XLA will be used). Devices:\n",
      "2024-02-18 08:23:51.565070: I external/local_xla/xla/service/service.cc:176]   StreamExecutor device (0): NVIDIA GeForce RTX 3060, Compute Capability 8.6\n",
      "2024-02-18 08:23:51.575348: I tensorflow/compiler/mlir/tensorflow/utils/dump_mlir_util.cc:269] disabling MLIR crash reproducer, set env var `MLIR_CRASH_REPRODUCER_DIRECTORY` to enable.\n",
      "WARNING: All log messages before absl::InitializeLog() is called are written to STDERR\n",
      "I0000 00:00:1708255431.661600     965 device_compiler.h:186] Compiled cluster using XLA!  This line is logged at most once for the lifetime of the process.\n"
     ]
    },
    {
     "name": "stdout",
     "output_type": "stream",
     "text": [
      "13294/13294 [==============================] - ETA: 0s - loss: 0.6187 - accuracy: 0.6566"
     ]
    }
   ],
   "source": [
    "num_epochs = 200\n",
    "training_padded = np.array(training_padded)\n",
    "training_labels = np.array(training_labels)\n",
    "testing_padded = np.array(testing_padded)\n",
    "testing_labels = np.array(testing_labels)\n",
    "history = model.fit(training_padded, training_labels, epochs=num_epochs, validation_data=(testing_padded, testing_labels), verbose=1,batch_size=200)"
   ]
  },
  {
   "cell_type": "code",
   "execution_count": null,
   "id": "5b98abc5",
   "metadata": {},
   "outputs": [
    {
     "ename": "NameError",
     "evalue": "name 'model' is not defined",
     "output_type": "error",
     "traceback": [
      "\u001b[0;31m---------------------------------------------------------------------------\u001b[0m",
      "\u001b[0;31mNameError\u001b[0m                                 Traceback (most recent call last)",
      "Cell \u001b[0;32mIn[1], line 1\u001b[0m\n\u001b[0;32m----> 1\u001b[0m \u001b[43mmodel\u001b[49m\u001b[38;5;241m.\u001b[39msave(\u001b[38;5;124m'\u001b[39m\u001b[38;5;124m./model/model.keras\u001b[39m\u001b[38;5;124m'\u001b[39m)\n",
      "\u001b[0;31mNameError\u001b[0m: name 'model' is not defined"
     ]
    }
   ],
   "source": [
    "model.save('./model/model.keras')"
   ]
  },
  {
   "cell_type": "code",
   "execution_count": null,
   "metadata": {},
   "outputs": [
    {
     "data": {
      "text/plain": [
       "Text(0.5, 0, 'Época')"
      ]
     },
     "execution_count": 24,
     "metadata": {},
     "output_type": "execute_result"
    },
    {
     "data": {
      "image/png": "[encoded data removed]",
      "text/plain": [
       "<Figure size 640x480 with 1 Axes>"
      ]
     },
     "metadata": {},
     "output_type": "display_data"
    }
   ],
   "source": [
    "import matplotlib.pyplot as plt\n",
    "plt.plot(history.history[\"accuracy\"])\n",
    "plt.plot(history.history[\"val_accuracy\"])\n",
    "plt.legend([\"Acurácia de treino\", \"Acurácia de teste\"])\n",
    "plt.xlabel(\"Época\")"
   ]
  },
  {
   "cell_type": "code",
   "execution_count": null,
   "id": "cb2d5c32",
   "metadata": {},
   "outputs": [
    {
     "data": {
      "text/plain": [
       "Text(0.5, 0, 'Época')"
      ]
     },
     "execution_count": 25,
     "metadata": {},
     "output_type": "execute_result"
    },
    {
     "data": {
      "image/png": "[encoded data removed]",
      "text/plain": [
       "<Figure size 640x480 with 1 Axes>"
      ]
     },
     "metadata": {},
     "output_type": "display_data"
    }
   ],
   "source": [
    "plt.plot(history.history[\"loss\"])\n",
    "plt.plot(history.history[\"val_loss\"])\n",
    "plt.legend([\"Perda de treino\", \"Perda de teste\"])\n",
    "plt.xlabel(\"Época\")"
   ]
  },
  {
   "cell_type": "code",
   "execution_count": null,
   "metadata": {},
   "outputs": [
    {
     "name": "stdout",
     "output_type": "stream",
     "text": [
      "[[   9  209  125    2  525 6096  449  257   23]]\n",
      "1/1 [==============================] - 0s 24ms/step\n"
     ]
    },
    {
     "data": {
      "text/plain": [
       "array([[0.5043489]], dtype=float32)"
      ]
     },
     "execution_count": 42,
     "metadata": {},
     "output_type": "execute_result"
    }
   ],
   "source": [
    "padded_test_phrase = pad_sequences(tokenizer.texts_to_sequences([\"good night calli. i was lurking rest of it\"]))\n",
    "print(padded_test_phrase)\n",
    "model.predict(padded_test_phrase)"
   ]
  }
 ],
 "metadata": {
  "kernelspec": {
   "display_name": "Python 3",
   "language": "python",
   "name": "python3"
  },
  "language_info": {
   "codemirror_mode": {
    "name": "ipython",
    "version": 3
   },
   "file_extension": ".py",
   "mimetype": "text/x-python",
   "name": "python",
   "nbconvert_exporter": "python",
   "pygments_lexer": "ipython3",
   "version": "3.10.12"
  },
  "papermill": {
   "default_parameters": {},
   "duration": 13603.08694,
   "end_time": "2022-03-21T19:23:03.198976",
   "environment_variables": {},
   "exception": null,
   "input_path": "__notebook__.ipynb",
   "output_path": "__notebook__.ipynb",
   "parameters": {},
   "start_time": "2022-03-21T15:36:20.112036",
   "version": "2.3.3"
  }
 },
 "nbformat": 4,
 "nbformat_minor": 5
}
